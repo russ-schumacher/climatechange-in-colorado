{
 "cells": [
  {
   "cell_type": "markdown",
   "id": "4424cae1",
   "metadata": {},
   "source": [
    "## calculate the number of occurrences of temperature exceeding a hot or cold threshold in the nClimGrid-daily dataset; plot these on maps\n",
    "\n",
    "### this requires having access to the nClimGrid-daily netcdf files, which ends up being a rather large dataset. They can be downloaded from https://www.ncei.noaa.gov/data/nclimgrid-daily/access/grids/ (this dataset is not provided here; you will need to download it to reproduce these figures)."
   ]
  },
  {
   "cell_type": "code",
   "execution_count": null,
   "id": "f4730e0f",
   "metadata": {
    "tags": []
   },
   "outputs": [],
   "source": [
    "import matplotlib.pyplot as plt\n",
    "import xarray as xr\n",
    "import pandas as pd\n",
    "import cartopy.crs as ccrs\n",
    "import cartopy.feature as cfeature\n",
    "import matplotlib.dates as mdates \n",
    "import matplotlib.colors as mcolors\n",
    "import numpy as np\n",
    "import os\n",
    "\n",
    "from metpy.plots import USCOUNTIES\n",
    "from matplotlib.offsetbox import AnchoredText\n",
    "\n",
    "from palettable.colorbrewer.diverging import RdBu_11, RdBu_11_r\n",
    "\n",
    "#from dask.distributed import Client\n",
    "#client=Client()\n",
    "#client"
   ]
  },
  {
   "cell_type": "markdown",
   "id": "4e518d85",
   "metadata": {},
   "source": [
    "### read in nclimgrid daily data, subset to Colorado\n",
    "\n",
    "#### note that you will need to change the path to reflect the location of the netcdf files on your system"
   ]
  },
  {
   "cell_type": "code",
   "execution_count": null,
   "id": "3e6ee9d1",
   "metadata": {
    "tags": []
   },
   "outputs": [],
   "source": [
    "var = 'tmax'\n",
    "\n",
    "lonmin=-109.096667\n",
    "lonmax=-102.0\n",
    "latmin=36.95\n",
    "latmax=41.05\n",
    "\n",
    "data = xr.open_mfdataset(\"/data/rschumac/nclimgrid/daily/ncdd-*.nc\")[var].sel(lat=slice(latmin,latmax),lon=slice(lonmin,lonmax)).chunk('auto')\n",
    "#.chunk(dict(time=-1, lon=170, lat=98))\n"
   ]
  },
  {
   "cell_type": "code",
   "execution_count": null,
   "id": "78eb8d65",
   "metadata": {
    "tags": []
   },
   "outputs": [],
   "source": [
    "data"
   ]
  },
  {
   "cell_type": "markdown",
   "id": "212676a8",
   "metadata": {},
   "source": [
    "### count frequency of exceedance of a threshold at each gridpoint"
   ]
  },
  {
   "cell_type": "code",
   "execution_count": null,
   "id": "3af5e480",
   "metadata": {
    "tags": []
   },
   "outputs": [],
   "source": [
    "thresh = 95.  ## in F\n",
    "exceed = xr.where((1.8*data+32.) >= thresh, 1, 0).load()\n",
    "\n",
    "exceed\n"
   ]
  },
  {
   "cell_type": "markdown",
   "id": "b86805a2",
   "metadata": {},
   "source": [
    "### add up the number of exceedances over time, which yields a single map"
   ]
  },
  {
   "cell_type": "code",
   "execution_count": null,
   "id": "438cf1ed-e7eb-47d1-b5c6-b699b1436ff5",
   "metadata": {
    "tags": []
   },
   "outputs": [],
   "source": [
    "exceed_map = exceed.sum(dim='time')\n",
    "exceed_map"
   ]
  },
  {
   "cell_type": "markdown",
   "id": "b7df522c",
   "metadata": {},
   "source": [
    "### calculate the exceedances over different time periods, and the difference between those periods"
   ]
  },
  {
   "cell_type": "code",
   "execution_count": null,
   "id": "06908661",
   "metadata": {
    "tags": []
   },
   "outputs": [],
   "source": [
    "exceed_7100 = exceed.sel(time=slice('1971-01-01','2000-12-31'))\n",
    "exceed_0120 = exceed.sel(time=slice('2001-01-01','2020-12-31'))\n",
    "exceed_diff = ((exceed_0120.sum(dim='time')/20.) - (exceed_7100.sum(dim='time')/30.))\n",
    "\n",
    "### nan out the places where no days above the threshold have occurred\n",
    "exceed_diff = exceed_diff.where(exceed.sum(dim='time') > 0)\n"
   ]
  },
  {
   "cell_type": "markdown",
   "id": "05a61a0a-1cf2-4f91-8471-c0ac94d4ec9b",
   "metadata": {},
   "source": [
    "### make a map of this"
   ]
  },
  {
   "cell_type": "code",
   "execution_count": null,
   "id": "5b9832c9-0aa7-48d2-900b-59258c35be73",
   "metadata": {
    "tags": []
   },
   "outputs": [],
   "source": [
    "crs = ccrs.LambertConformal(central_longitude=-105.0, central_latitude=40.)\n",
    "\n",
    "fig = plt.figure(figsize=(12,8))\n",
    "ax = fig.add_subplot(1,1,1,projection=crs)\n",
    "\n",
    "## Colorado versions\n",
    "lonmin=-109.5\n",
    "lonmax=-101.5\n",
    "latmin=36.4\n",
    "latmax=41.5\n",
    "#lonmin=-109.046667\n",
    "#lonmax=-102.046667\n",
    "#latmin=37.0\n",
    "#latmax=41.0\n",
    "\n",
    "ax.set_extent([lonmin,lonmax,latmin,latmax])\n",
    "#ax.add_feature(cfeature.LAND)\n",
    "ax.add_feature(USCOUNTIES.with_scale('5m'), edgecolor=\"gray\", linewidth=0.4)\n",
    "ax.add_feature(cfeature.STATES)\n",
    "ax.add_feature(cfeature.BORDERS)\n",
    "\n",
    "if thresh >= 100:\n",
    "    clevs = np.arange(-10,11,1)\n",
    "else:\n",
    "    clevs = np.arange(-20,22,2)\n",
    "\n",
    "## trend\n",
    "cf1 = ax.contourf(exceed_diff.lon, exceed_diff.lat, exceed_diff,\n",
    "                  clevs,\n",
    "                  extend='both',\n",
    "                  cmap=RdBu_11_r.mpl_colormap,\n",
    "                  transform=ccrs.PlateCarree())\n",
    "\n",
    "ax.set_title(\"difference in average # of days per year with high temperature≥\"+str(int(thresh))+\"°F\\n2001-2020 minus 1971-2000\", \n",
    "             fontsize=12, fontweight='semibold')\n",
    "cb1 = fig.colorbar(cf1, ax=ax, orientation='horizontal', aspect=30, shrink=0.65, pad=0.01)\n",
    "cb1.set_label('number of days', size='large')\n",
    "\n",
    "# Add a text annotation \n",
    "text = AnchoredText(\"data source: NOAA/NCEI nClimGrid-daily\",\n",
    "                    loc='lower left', prop={'size': 8.15}, frameon=True)\n",
    "ax.add_artist(text)\n",
    "\n",
    "fig.savefig(\"diff_\"+str(int(thresh))+\"degdays.png\",\n",
    "           dpi=300,transparent=False, facecolor='white', bbox_inches='tight')\n",
    "\n",
    "plt.show()\n"
   ]
  },
  {
   "cell_type": "markdown",
   "id": "463c3eda-ddea-4bf4-a964-0b33b0c76982",
   "metadata": {},
   "source": [
    "### now repeat for cold\n",
    "\n",
    "#### again note that you will need to change the path to reflect the location of the netcdf files on your system"
   ]
  },
  {
   "cell_type": "code",
   "execution_count": null,
   "id": "f955af25-8f16-46e4-87c7-e74db4cc42be",
   "metadata": {
    "tags": []
   },
   "outputs": [],
   "source": [
    "var = 'tmin'\n",
    "\n",
    "lonmin=-109.096667\n",
    "lonmax=-102.0\n",
    "latmin=36.95\n",
    "latmax=41.05\n",
    "\n",
    "data = xr.open_mfdataset(\"/data/rschumac/nclimgrid/daily/ncdd-*.nc\")[var].sel(lat=slice(latmin,latmax),lon=slice(lonmin,lonmax)).chunk('auto')\n",
    "#.chunk(dict(time=-1, lon=170, lat=98))"
   ]
  },
  {
   "cell_type": "code",
   "execution_count": null,
   "id": "b728a8e6-7b72-4a0c-8676-90c73092fe35",
   "metadata": {
    "tags": []
   },
   "outputs": [],
   "source": [
    "thresh = 0.  ## in F\n",
    "exceed = xr.where((1.8*data+32.) <= thresh, 1, 0).load()\n",
    "\n",
    "exceed"
   ]
  },
  {
   "cell_type": "code",
   "execution_count": null,
   "id": "36536202-895f-44e3-8393-0ff4fe6c336c",
   "metadata": {
    "tags": []
   },
   "outputs": [],
   "source": [
    "exceed_map = exceed.sum(dim='time')\n",
    "\n",
    "exceed_7100 = exceed.sel(time=slice('1971-01-01','2000-12-31'))\n",
    "exceed_0120 = exceed.sel(time=slice('2001-01-01','2020-12-31'))\n",
    "exceed_diff = ((exceed_0120.sum(dim='time')/20.) - (exceed_7100.sum(dim='time')/30.))\n",
    "\n",
    "### nan out the places where no days above the threshold have occurred\n",
    "exceed_diff = exceed_diff.where(exceed.sum(dim='time') > 0)\n"
   ]
  },
  {
   "cell_type": "code",
   "execution_count": null,
   "id": "ffa27891-e81b-4d4f-95f8-21ad191a27f2",
   "metadata": {
    "tags": []
   },
   "outputs": [],
   "source": [
    "crs = ccrs.LambertConformal(central_longitude=-105.0, central_latitude=40.)\n",
    "\n",
    "fig = plt.figure(figsize=(12,8))\n",
    "ax = fig.add_subplot(1,1,1,projection=crs)\n",
    "\n",
    "## Colorado versions\n",
    "lonmin=-109.5\n",
    "lonmax=-101.5\n",
    "latmin=36.4\n",
    "latmax=41.5\n",
    "#lonmin=-109.046667\n",
    "#lonmax=-102.046667\n",
    "#latmin=37.0\n",
    "#latmax=41.0\n",
    "\n",
    "ax.set_extent([lonmin,lonmax,latmin,latmax])\n",
    "#ax.add_feature(cfeature.LAND)\n",
    "ax.add_feature(USCOUNTIES.with_scale('5m'), edgecolor=\"gray\", linewidth=0.4)\n",
    "ax.add_feature(cfeature.STATES)\n",
    "ax.add_feature(cfeature.BORDERS)\n",
    "\n",
    "#if thresh <= -10:\n",
    "#    clevs = np.arange(-5,6,1)\n",
    "#else:\n",
    "#    clevs = np.arange(-10,11,1)\n",
    "clevs = np.arange(-20,22,2)\n",
    "\n",
    "## trend\n",
    "cf1 = ax.contourf(exceed_diff.lon, exceed_diff.lat, exceed_diff,\n",
    "                  clevs,\n",
    "                  extend='both',\n",
    "                  cmap=RdBu_11.mpl_colormap,\n",
    "                  transform=ccrs.PlateCarree())\n",
    "\n",
    "ax.set_title(\"difference in average # of days per year with low temperature≤\"+str(int(thresh))+\"°F\\n2001-2020 minus 1971-2000\", \n",
    "             fontsize=12, fontweight='semibold')\n",
    "cb1 = fig.colorbar(cf1, ax=ax, orientation='horizontal', aspect=30, shrink=0.65, pad=0.01)\n",
    "cb1.set_label('number of days', size='large')\n",
    "\n",
    "# Add a text annotation \n",
    "text = AnchoredText(\"data source: NOAA/NCEI nClimGrid-daily\",\n",
    "                    loc='lower left', prop={'size': 8.15}, frameon=True)\n",
    "ax.add_artist(text)\n",
    "\n",
    "fig.savefig(\"diff_\"+str(int(thresh))+\"degdays.png\",\n",
    "           dpi=250,transparent=False, facecolor='white', bbox_inches='tight')\n",
    "\n",
    "plt.show()\n"
   ]
  },
  {
   "cell_type": "code",
   "execution_count": null,
   "id": "4c93b88d-d4e8-4a83-8ca1-0b9f05a9db8b",
   "metadata": {},
   "outputs": [],
   "source": []
  }
 ],
 "metadata": {
  "kernelspec": {
   "display_name": "Python 3 (ipykernel)",
   "language": "python",
   "name": "python3"
  },
  "language_info": {
   "codemirror_mode": {
    "name": "ipython",
    "version": 3
   },
   "file_extension": ".py",
   "mimetype": "text/x-python",
   "name": "python",
   "nbconvert_exporter": "python",
   "pygments_lexer": "ipython3",
   "version": "3.11.0"
  }
 },
 "nbformat": 4,
 "nbformat_minor": 5
}
