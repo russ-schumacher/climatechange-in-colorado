{
 "cells": [
  {
   "cell_type": "markdown",
   "id": "b27ccc08",
   "metadata": {},
   "source": [
    "## Make maps of precipitation changes over the alternate climate divisions\n",
    "### uses data from NCEI nClimGrid, averaged over the divisions, and with changes defined as the period 2001-2022 minus the period 1951-2000"
   ]
  },
  {
   "cell_type": "code",
   "execution_count": null,
   "id": "d8aaa8cf",
   "metadata": {},
   "outputs": [],
   "source": [
    "import matplotlib.pyplot as plt\n",
    "import xarray as xr\n",
    "import pandas as pd\n",
    "import cartopy.crs as ccrs\n",
    "import cartopy.feature as cfeature\n",
    "import matplotlib.dates as mdates \n",
    "import matplotlib.colors as mcolors\n",
    "import numpy as np\n",
    "import os\n",
    "\n",
    "from metpy.plots import USCOUNTIES\n",
    "from matplotlib.offsetbox import AnchoredText\n",
    "\n",
    "from palettable.colorbrewer.diverging import BrBG_11\n"
   ]
  },
  {
   "cell_type": "markdown",
   "id": "0af8123d",
   "metadata": {},
   "source": [
    "### read in cluster definitions"
   ]
  },
  {
   "cell_type": "code",
   "execution_count": null,
   "id": "a6106e3a",
   "metadata": {},
   "outputs": [],
   "source": [
    "mask_in = xr.open_dataset(\"data/clusters_tavg_prcp_sum_post1950_11_pub.nc\")['clusters_tavg_prcp_sum']"
   ]
  },
  {
   "cell_type": "markdown",
   "id": "7f33643b",
   "metadata": {},
   "source": [
    "### dictionary of the divisions"
   ]
  },
  {
   "cell_type": "code",
   "execution_count": null,
   "id": "b85e5e1f",
   "metadata": {},
   "outputs": [],
   "source": [
    "divs_dict = {1:\"Pikes Peak\",2:\"Southeast\",3:\"N Front Range\",4:\"Northeast\",5:\"South Park\",\n",
    "             6:\"San Luis Valley & SdC\",7:\"Southwest\",8:\"Mesas & Valleys\",9:\"Northwest\",\n",
    "             10:\"Northern Mountains\",11:\"Central Mountains\",\n",
    "             \"state\":\"statewide\"}"
   ]
  },
  {
   "cell_type": "markdown",
   "id": "8208adff",
   "metadata": {},
   "source": [
    "### read in the change data, and plot it on a map"
   ]
  },
  {
   "cell_type": "code",
   "execution_count": null,
   "id": "34f87802",
   "metadata": {},
   "outputs": [],
   "source": [
    "### make list of calculations to loop over\n",
    "calcs = [\"Pchange_sen_climdiv_periodchange\",\n",
    "         \"Pchange_seas_sen_climdiv_periodchange\"]\n",
    "\n",
    "time_period = {\"Pchange_sen_climdiv_periodchange\":\"2001-2022 minus 1951-2000\",\n",
    "              \"Pchange_seas_sen_climdiv_periodchange\":\"2001-2022 minus 1951-2000\"}\n",
    "               \n",
    "month_titles = {\"Jan\":\"January\",\"Feb\":\"February\",\"Mar\":\"March\",\"Apr\":\"April\",\n",
    "                \"May\":\"May\",\"Jun\":\"June\",\"Jul\":\"July\",\"Aug\":\"August\",\"Sep\":\"September\",\n",
    "                \"Oct\":\"October\",\"Nov\":\"November\",\"Dec\":\"December\",\"annual\":\"annual\",\n",
    "                \"DJF\":\"winter\",\"MAM\":\"spring\",\"JJA\":\"summer\",\"SON\":\"autumn\"}\n",
    "    \n",
    "for calc in calcs:\n",
    "    \n",
    "    ### read csv with trends (calculated in the 'heatmaps' notebook)\n",
    "    trends = pd.read_csv(\"data/\"+calc+\".csv\")\n",
    "    \n",
    "    for month in trends.columns.values[1:]:\n",
    "\n",
    "        ### set the values of the map to be the trend for each division\n",
    "        trend_mapped = mask_in.copy()\n",
    "\n",
    "        ### loop over the divisions\n",
    "        for div in range(1,12):\n",
    "            trend_mapped = xr.where(trend_mapped==div,trends[trends.division==divs_dict[div]][month].values[0],trend_mapped)\n",
    "\n",
    "\n",
    "        crs = ccrs.LambertConformal(central_longitude=-105.0, central_latitude=40.)\n",
    "        #crs = ccrs.LambertConformal(central_longitude=-100.0, central_latitude=42.0)\n",
    "\n",
    "        fig = plt.figure(figsize=(12,8))\n",
    "        ax = fig.add_subplot(1,1,1,projection=crs)\n",
    "\n",
    "        ## Colorado versions\n",
    "        lonmin=-109.5\n",
    "        lonmax=-101.5\n",
    "        latmin=36.4\n",
    "        latmax=41.5\n",
    "        #lonmin=-109.046667\n",
    "        #lonmax=-102.046667\n",
    "        #latmin=37.0\n",
    "        #latmax=41.0\n",
    "\n",
    "        ax.set_extent([lonmin,lonmax,latmin,latmax])\n",
    "        #ax.add_feature(cfeature.LAND)\n",
    "        ax.add_feature(USCOUNTIES.with_scale('5m'), edgecolor=\"gray\", linewidth=0.4)\n",
    "        ax.add_feature(cfeature.STATES)\n",
    "        ax.add_feature(cfeature.BORDERS)\n",
    "\n",
    "        ## trend\n",
    "        cf1 = ax.contourf(trend_mapped.lon, trend_mapped.lat, trend_mapped, \n",
    "                          np.arange(-50,55,5), extend='both',\n",
    "                          cmap=BrBG_11.mpl_colormap,\n",
    "                          transform=ccrs.PlateCarree())\n",
    "\n",
    "        ## also lightly outline the divisions -- kind of hacky masking to make the contours all the same thickness\n",
    "        for div in range(1,12):\n",
    "            mask_temp = xr.where(mask_in==div,1,0)\n",
    "            ax.contour(mask_temp.lon, mask_temp.lat, mask_temp,\n",
    "                      #levels=[0],\n",
    "                       colors='gray',\n",
    "                       linewidths=0.15,\n",
    "                      transform=ccrs.PlateCarree())\n",
    "\n",
    "        ### and add text to each division\n",
    "        for div in range(1,12):\n",
    "\n",
    "            if (div==2) or (div==4):  ## define horizontal alignment\n",
    "                hor_align = 'left'\n",
    "            elif (div==3):\n",
    "                hor_align = \"right\"\n",
    "            else:\n",
    "                hor_align = \"center\"\n",
    "\n",
    "            if (div==7): \n",
    "                vert_align = \"top\"\n",
    "            else:\n",
    "                vert_align = \"center\"\n",
    "\n",
    "            cent_lon = mask_in.where(mask_in==div,drop=True).lon.mean()\n",
    "            cent_lat = mask_in.where(mask_in==div,drop=True).lat.mean()\n",
    "            text = lambda i: (\"+\" if i > 0 else \"\") + f'{i:.0f}' + \"%\"\n",
    "            ax.text(cent_lon,cent_lat,\n",
    "                   # str(np.round(trends[trends.division==divs_dict[div]]['annual'].values[0],1))+\"%\",\n",
    "                    text(np.round(trends[trends.division==divs_dict[div]][month].values[0],0)+0.0),\n",
    "                   color='sienna',fontweight='bold', fontsize=14,\n",
    "                    horizontalalignment=hor_align, verticalalignment=vert_align,\n",
    "                    bbox=dict(facecolor='white', alpha=0.6,boxstyle='round'),\n",
    "                    transform=ccrs.PlateCarree())\n",
    "\n",
    "        # Add statewide value\n",
    "        text_state = AnchoredText(\"statewide: \"+text(np.round(trends[trends.division==\"statewide\"][month].values[0],0)+0.0),\n",
    "                            loc='upper center', prop={'size': 14,'weight':'semibold','color':'sienna'}, frameon=True)\n",
    "        ax.add_artist(text_state)\n",
    "\n",
    "        ax.set_title(\"precipitation change, \"+month_titles[month]+\", \"+time_period[calc], fontsize=13, fontweight='semibold')\n",
    "        cb1 = fig.colorbar(cf1, ax=ax, orientation='horizontal', aspect=30, shrink=0.65, pad=0.01)\n",
    "        cb1.set_label('change (%)', size='large')\n",
    "\n",
    "        # Add a text annotation \n",
    "        #text = AnchoredText(\"data source: NOAA/NCEI nclimgrid\\nmap: Colorado Climate Center/Colorado State University\",\n",
    "        #                    loc='lower left', prop={'size': 8.15}, frameon=True)\n",
    "        text = AnchoredText(\"data source: NOAA/NCEI nclimgrid\",\n",
    "                            loc='lower left', prop={'size': 8.15}, frameon=True)\n",
    "        ax.add_artist(text)\n",
    "\n",
    "        fig.savefig(calc+\"_\"+month+\"_map.png\",\n",
    "                   dpi=250,transparent=False, facecolor='white', bbox_inches='tight')\n",
    "\n",
    "        #plt.show()\n",
    "\n"
   ]
  },
  {
   "cell_type": "code",
   "execution_count": null,
   "id": "74103c00",
   "metadata": {},
   "outputs": [],
   "source": []
  },
  {
   "cell_type": "code",
   "execution_count": null,
   "id": "258c3c84",
   "metadata": {},
   "outputs": [],
   "source": []
  }
 ],
 "metadata": {
  "kernelspec": {
   "display_name": "Python 3 (ipykernel)",
   "language": "python",
   "name": "python3"
  },
  "language_info": {
   "codemirror_mode": {
    "name": "ipython",
    "version": 3
   },
   "file_extension": ".py",
   "mimetype": "text/x-python",
   "name": "python",
   "nbconvert_exporter": "python",
   "pygments_lexer": "ipython3",
   "version": "3.11.0"
  }
 },
 "nbformat": 4,
 "nbformat_minor": 5
}
